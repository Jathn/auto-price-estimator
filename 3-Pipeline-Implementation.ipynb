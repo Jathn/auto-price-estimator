{
 "cells": [
  {
   "cell_type": "code",
   "execution_count": 52,
   "id": "86157fc3",
   "metadata": {},
   "outputs": [],
   "source": [
    "import pandas as pd\n",
    "import numpy as np\n",
    "import matplotlib.pyplot as plt\n",
    "from sklearn.model_selection import train_test_split\n",
    "from sklearn.pipeline import Pipeline\n",
    "from sklearn.compose import ColumnTransformer\n",
    "from sklearn.impute import SimpleImputer\n",
    "from sklearn.preprocessing import OneHotEncoder, StandardScaler\n",
    "from sklearn.ensemble import RandomForestRegressor\n",
    "from sklearn.metrics import mean_absolute_error\n",
    "import pickle"
   ]
  },
  {
   "cell_type": "markdown",
   "id": "eaf6357f",
   "metadata": {},
   "source": [
    "# Pipeline for usage\n",
    "# ________________________________________________________________\n",
    "\n",
    "##\n",
    "In this notebook, we will build on the data exploration notebook and create a machine learning pipeline that takes in the features of a used car and predicts its price. The RFR with the best parameters from the hyperparameter tuning will be used as the predictor. The preprocessing will be the same as was done in the model-selection phase.\n",
    "# ________________________________________________________________"
   ]
  },
  {
   "cell_type": "code",
   "execution_count": 36,
   "id": "be28a69a",
   "metadata": {},
   "outputs": [
    {
     "name": "stdout",
     "output_type": "stream",
     "text": [
      "n_estimators: 300\n",
      "\n",
      "min_samples_split: 2\n",
      "\n",
      "min_samples_leaf: 1\n",
      "\n",
      "max_features: sqrt\n",
      "\n",
      "max_depth: 40\n",
      "\n",
      "bootstrap: True\n",
      "\n",
      "End of file reached\n"
     ]
    }
   ],
   "source": [
    "car_data = pd.read_csv(\"datasets/car_data.csv\")\n",
    "car_data.drop(columns=car_data.columns[0], inplace=True)\n",
    "\n",
    "try:\n",
    "    with open('pipeline/best_params.txt', 'r') as file:\n",
    "        while True:\n",
    "            line = file.readline()\n",
    "            if not line:\n",
    "                raise EOFError('End of file reached')\n",
    "            print(line)\n",
    "except EOFError:\n",
    "    print('End of file reached')"
   ]
  },
  {
   "cell_type": "code",
   "execution_count": 38,
   "id": "58ce3dfd",
   "metadata": {},
   "outputs": [],
   "source": [
    "rf = RandomForestRegressor(n_estimators=300,\n",
    "                           min_samples_split = 2,\n",
    "                           min_samples_leaf = 1,\n",
    "                           max_features = \"sqrt\",\n",
    "                           max_depth = 40,\n",
    "                           bootstrap = True\n",
    "                          )"
   ]
  },
  {
   "cell_type": "code",
   "execution_count": 39,
   "id": "8381c206",
   "metadata": {},
   "outputs": [],
   "source": [
    "y = car_data.price\n",
    "X = car_data.drop(columns='price')\n",
    "num_cols = ['year', 'odometer', 'lat', 'long']\n",
    "cat_cols = ['manufacturer', 'type', 'paint_color', 'fuel']\n",
    "\n",
    "x_train, x_test, y_train, y_test = train_test_split(X,y, random_state=42, test_size=0.20)\n",
    "\n",
    "cat_pre = Pipeline([(\"imputer\",SimpleImputer(strategy='most_frequent')), (\"ohe\",OneHotEncoder(handle_unknown='ignore', sparse=False, drop='first'))])\n",
    "num_pre = Pipeline([(\"imputer\",SimpleImputer(strategy='mean')), (\"scale\",StandardScaler())])\n",
    "preprocess = ColumnTransformer(\n",
    "    transformers=[\n",
    "        (\"cat_process\", cat_pre, cat_cols),\n",
    "        (\"num_process\", num_pre, num_cols)\n",
    "    ]\n",
    ")\n",
    "pipe = Pipeline(steps=[\n",
    "    ('preprocess', preprocess),\n",
    "    ('regressor', rf)\n",
    "])"
   ]
  },
  {
   "cell_type": "code",
   "execution_count": 40,
   "id": "3f8cbd17",
   "metadata": {},
   "outputs": [
    {
     "data": {
      "text/plain": [
       "Pipeline(steps=[('preprocess',\n",
       "                 ColumnTransformer(transformers=[('cat_process',\n",
       "                                                  Pipeline(steps=[('imputer',\n",
       "                                                                   SimpleImputer(strategy='most_frequent')),\n",
       "                                                                  ('ohe',\n",
       "                                                                   OneHotEncoder(drop='first',\n",
       "                                                                                 handle_unknown='ignore',\n",
       "                                                                                 sparse=False))]),\n",
       "                                                  ['manufacturer', 'type',\n",
       "                                                   'paint_color', 'fuel']),\n",
       "                                                 ('num_process',\n",
       "                                                  Pipeline(steps=[('imputer',\n",
       "                                                                   SimpleImputer()),\n",
       "                                                                  ('scale',\n",
       "                                                                   StandardScaler())]),\n",
       "                                                  ['year', 'odometer', 'lat',\n",
       "                                                   'long'])])),\n",
       "                ('regressor',\n",
       "                 RandomForestRegressor(max_depth=40, max_features='sqrt',\n",
       "                                       n_estimators=300))])"
      ]
     },
     "execution_count": 40,
     "metadata": {},
     "output_type": "execute_result"
    }
   ],
   "source": [
    "pipe.fit(x_train, y_train)"
   ]
  },
  {
   "cell_type": "code",
   "execution_count": 41,
   "id": "62b00df5",
   "metadata": {},
   "outputs": [],
   "source": [
    "prediction = pipe.predict(x_test)"
   ]
  },
  {
   "cell_type": "code",
   "execution_count": 42,
   "id": "49c860f3",
   "metadata": {},
   "outputs": [],
   "source": [
    "MAE = mean_absolute_error(prediction, y_test)"
   ]
  },
  {
   "cell_type": "code",
   "execution_count": 43,
   "id": "5463985a",
   "metadata": {},
   "outputs": [
    {
     "name": "stdout",
     "output_type": "stream",
     "text": [
      "1713.9843254740138\n",
      "0.8313475745664054\n"
     ]
    }
   ],
   "source": [
    "print(MAE)\n",
    "print(pipe.score(x_test, y_test))"
   ]
  },
  {
   "attachments": {},
   "cell_type": "markdown",
   "id": "45d1458d",
   "metadata": {},
   "source": [
    "### Test in Practice:\n",
    "\n",
    "- Toyota\n",
    "- SUV\n",
    "- black\n",
    "- gas\n",
    "- 2014\n",
    "- Washington (38.895794345288074, -77.03621265903129)\n",
    "\n",
    "These are the specs of a car priced at $19990.\n",
    "Let's see how our model would predict the price"
   ]
  },
  {
   "cell_type": "code",
   "execution_count": 48,
   "id": "bcbb939e",
   "metadata": {},
   "outputs": [
    {
     "name": "stderr",
     "output_type": "stream",
     "text": [
      "C:\\Users\\jonne\\miniconda3\\lib\\site-packages\\sklearn\\preprocessing\\_encoders.py:174: UserWarning: Found unknown categories in columns [0] during transform. These unknown categories will be encoded as all zeros\n",
      "  UserWarning,\n"
     ]
    }
   ],
   "source": [
    "\n",
    "new_car = pd.DataFrame({'manufacturer': ['Toyota'],\n",
    "                        'type': ['SUV'],\n",
    "                        'paint_color': ['black'],\n",
    "                        'fuel': ['gas'],\n",
    "                        'year': [2014],\n",
    "                        'odometer': [40000],\n",
    "                        'lat': [38.895794345288074],\n",
    "                        'long': [-77.03621265903129],\n",
    "                        'is_fwd': [1]})\n",
    "predicted_price = pipe.predict(new_car)"
   ]
  },
  {
   "cell_type": "code",
   "execution_count": 56,
   "id": "c05e754b",
   "metadata": {},
   "outputs": [
    {
     "name": "stdout",
     "output_type": "stream",
     "text": [
      "Model predicted the price to $18932.468685322834 which is $1057.531314677166 away from the real price.\n"
     ]
    }
   ],
   "source": [
    "print(\"Model predicted the price to $\"+str(predicted_price[0])+ \" which is $\" + str(19990-predicted_price[0]) + str(\" away from the real price.\"))"
   ]
  },
  {
   "cell_type": "markdown",
   "id": "d7931abc",
   "metadata": {},
   "source": [
    "The pipeline is now capable of taking in a dataset containing information on used cars, cleaning and preprocessing the data, and training a machine learning model to predict the price of a used car based on its features. Specifically, the pipeline is able to handle missing values, scale numeric features, and one-hot-encode categorical features. The trained model can then be used to predict the price of a new used car by providing its features as input to the pipeline."
   ]
  },
  {
   "cell_type": "code",
   "execution_count": 53,
   "id": "3adfd65f",
   "metadata": {},
   "outputs": [],
   "source": [
    "with open('app_pipeline.pkl', 'wb') as f:\n",
    "    pickle.dump(pipe, f)"
   ]
  }
 ],
 "metadata": {
  "kernelspec": {
   "display_name": "Python 3 (ipykernel)",
   "language": "python",
   "name": "python3"
  },
  "language_info": {
   "codemirror_mode": {
    "name": "ipython",
    "version": 3
   },
   "file_extension": ".py",
   "mimetype": "text/x-python",
   "name": "python",
   "nbconvert_exporter": "python",
   "pygments_lexer": "ipython3",
   "version": "3.7.15"
  }
 },
 "nbformat": 4,
 "nbformat_minor": 5
}
